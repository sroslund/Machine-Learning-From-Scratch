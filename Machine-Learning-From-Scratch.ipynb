{
  "nbformat": 4,
  "nbformat_minor": 0,
  "metadata": {
    "colab": {
      "name": "Manual_ML.ipynb",
      "provenance": [],
      "collapsed_sections": []
    },
    "kernelspec": {
      "display_name": "Python 3",
      "name": "python3"
    },
    "language_info": {
      "name": "python"
    },
    "widgets": {
      "application/vnd.jupyter.widget-state+json": {
        "f917487d3dbb4ee09f6c5b5af60d93b5": {
          "model_module": "@jupyter-widgets/controls",
          "model_name": "HBoxModel",
          "model_module_version": "1.5.0",
          "state": {
            "_view_name": "HBoxView",
            "_dom_classes": [],
            "_model_name": "HBoxModel",
            "_view_module": "@jupyter-widgets/controls",
            "_model_module_version": "1.5.0",
            "_view_count": null,
            "_view_module_version": "1.5.0",
            "box_style": "",
            "layout": "IPY_MODEL_6a57038d507342d7af7468aae4c81800",
            "_model_module": "@jupyter-widgets/controls",
            "children": [
              "IPY_MODEL_e876119399974999944fdea6062dcc1a",
              "IPY_MODEL_2a2ed6f4733c4818afc80eb14a05684c",
              "IPY_MODEL_84105009ca6845ce83f731181e432b82"
            ]
          }
        },
        "6a57038d507342d7af7468aae4c81800": {
          "model_module": "@jupyter-widgets/base",
          "model_name": "LayoutModel",
          "model_module_version": "1.2.0",
          "state": {
            "_view_name": "LayoutView",
            "grid_template_rows": null,
            "right": null,
            "justify_content": null,
            "_view_module": "@jupyter-widgets/base",
            "overflow": null,
            "_model_module_version": "1.2.0",
            "_view_count": null,
            "flex_flow": null,
            "width": null,
            "min_width": null,
            "border": null,
            "align_items": null,
            "bottom": null,
            "_model_module": "@jupyter-widgets/base",
            "top": null,
            "grid_column": null,
            "overflow_y": null,
            "overflow_x": null,
            "grid_auto_flow": null,
            "grid_area": null,
            "grid_template_columns": null,
            "flex": null,
            "_model_name": "LayoutModel",
            "justify_items": null,
            "grid_row": null,
            "max_height": null,
            "align_content": null,
            "visibility": null,
            "align_self": null,
            "height": null,
            "min_height": null,
            "padding": null,
            "grid_auto_rows": null,
            "grid_gap": null,
            "max_width": null,
            "order": null,
            "_view_module_version": "1.2.0",
            "grid_template_areas": null,
            "object_position": null,
            "object_fit": null,
            "grid_auto_columns": null,
            "margin": null,
            "display": null,
            "left": null
          }
        },
        "e876119399974999944fdea6062dcc1a": {
          "model_module": "@jupyter-widgets/controls",
          "model_name": "HTMLModel",
          "model_module_version": "1.5.0",
          "state": {
            "_view_name": "HTMLView",
            "style": "IPY_MODEL_b4f328c2898d49ca927cfaf0c59d2965",
            "_dom_classes": [],
            "description": "",
            "_model_name": "HTMLModel",
            "placeholder": "​",
            "_view_module": "@jupyter-widgets/controls",
            "_model_module_version": "1.5.0",
            "value": "100%",
            "_view_count": null,
            "_view_module_version": "1.5.0",
            "description_tooltip": null,
            "_model_module": "@jupyter-widgets/controls",
            "layout": "IPY_MODEL_09b38f418f3747e1a6ac418057213d1e"
          }
        },
        "2a2ed6f4733c4818afc80eb14a05684c": {
          "model_module": "@jupyter-widgets/controls",
          "model_name": "FloatProgressModel",
          "model_module_version": "1.5.0",
          "state": {
            "_view_name": "ProgressView",
            "style": "IPY_MODEL_bcfb059159cd48db9280ac519082b268",
            "_dom_classes": [],
            "description": "",
            "_model_name": "FloatProgressModel",
            "bar_style": "success",
            "max": 10000,
            "_view_module": "@jupyter-widgets/controls",
            "_model_module_version": "1.5.0",
            "value": 10000,
            "_view_count": null,
            "_view_module_version": "1.5.0",
            "orientation": "horizontal",
            "min": 0,
            "description_tooltip": null,
            "_model_module": "@jupyter-widgets/controls",
            "layout": "IPY_MODEL_e9be5a27b1644c77aa7de884b22e1202"
          }
        },
        "84105009ca6845ce83f731181e432b82": {
          "model_module": "@jupyter-widgets/controls",
          "model_name": "HTMLModel",
          "model_module_version": "1.5.0",
          "state": {
            "_view_name": "HTMLView",
            "style": "IPY_MODEL_368e8eec3f834ebfa1b782ca4a0c43f1",
            "_dom_classes": [],
            "description": "",
            "_model_name": "HTMLModel",
            "placeholder": "​",
            "_view_module": "@jupyter-widgets/controls",
            "_model_module_version": "1.5.0",
            "value": " 10000/10000 [03:04&lt;00:00, 52.95it/s]",
            "_view_count": null,
            "_view_module_version": "1.5.0",
            "description_tooltip": null,
            "_model_module": "@jupyter-widgets/controls",
            "layout": "IPY_MODEL_8ba7ee116f2a4da8bf629680b10291cb"
          }
        },
        "b4f328c2898d49ca927cfaf0c59d2965": {
          "model_module": "@jupyter-widgets/controls",
          "model_name": "DescriptionStyleModel",
          "model_module_version": "1.5.0",
          "state": {
            "_view_name": "StyleView",
            "_model_name": "DescriptionStyleModel",
            "description_width": "",
            "_view_module": "@jupyter-widgets/base",
            "_model_module_version": "1.5.0",
            "_view_count": null,
            "_view_module_version": "1.2.0",
            "_model_module": "@jupyter-widgets/controls"
          }
        },
        "09b38f418f3747e1a6ac418057213d1e": {
          "model_module": "@jupyter-widgets/base",
          "model_name": "LayoutModel",
          "model_module_version": "1.2.0",
          "state": {
            "_view_name": "LayoutView",
            "grid_template_rows": null,
            "right": null,
            "justify_content": null,
            "_view_module": "@jupyter-widgets/base",
            "overflow": null,
            "_model_module_version": "1.2.0",
            "_view_count": null,
            "flex_flow": null,
            "width": null,
            "min_width": null,
            "border": null,
            "align_items": null,
            "bottom": null,
            "_model_module": "@jupyter-widgets/base",
            "top": null,
            "grid_column": null,
            "overflow_y": null,
            "overflow_x": null,
            "grid_auto_flow": null,
            "grid_area": null,
            "grid_template_columns": null,
            "flex": null,
            "_model_name": "LayoutModel",
            "justify_items": null,
            "grid_row": null,
            "max_height": null,
            "align_content": null,
            "visibility": null,
            "align_self": null,
            "height": null,
            "min_height": null,
            "padding": null,
            "grid_auto_rows": null,
            "grid_gap": null,
            "max_width": null,
            "order": null,
            "_view_module_version": "1.2.0",
            "grid_template_areas": null,
            "object_position": null,
            "object_fit": null,
            "grid_auto_columns": null,
            "margin": null,
            "display": null,
            "left": null
          }
        },
        "bcfb059159cd48db9280ac519082b268": {
          "model_module": "@jupyter-widgets/controls",
          "model_name": "ProgressStyleModel",
          "model_module_version": "1.5.0",
          "state": {
            "_view_name": "StyleView",
            "_model_name": "ProgressStyleModel",
            "description_width": "",
            "_view_module": "@jupyter-widgets/base",
            "_model_module_version": "1.5.0",
            "_view_count": null,
            "_view_module_version": "1.2.0",
            "bar_color": null,
            "_model_module": "@jupyter-widgets/controls"
          }
        },
        "e9be5a27b1644c77aa7de884b22e1202": {
          "model_module": "@jupyter-widgets/base",
          "model_name": "LayoutModel",
          "model_module_version": "1.2.0",
          "state": {
            "_view_name": "LayoutView",
            "grid_template_rows": null,
            "right": null,
            "justify_content": null,
            "_view_module": "@jupyter-widgets/base",
            "overflow": null,
            "_model_module_version": "1.2.0",
            "_view_count": null,
            "flex_flow": null,
            "width": null,
            "min_width": null,
            "border": null,
            "align_items": null,
            "bottom": null,
            "_model_module": "@jupyter-widgets/base",
            "top": null,
            "grid_column": null,
            "overflow_y": null,
            "overflow_x": null,
            "grid_auto_flow": null,
            "grid_area": null,
            "grid_template_columns": null,
            "flex": null,
            "_model_name": "LayoutModel",
            "justify_items": null,
            "grid_row": null,
            "max_height": null,
            "align_content": null,
            "visibility": null,
            "align_self": null,
            "height": null,
            "min_height": null,
            "padding": null,
            "grid_auto_rows": null,
            "grid_gap": null,
            "max_width": null,
            "order": null,
            "_view_module_version": "1.2.0",
            "grid_template_areas": null,
            "object_position": null,
            "object_fit": null,
            "grid_auto_columns": null,
            "margin": null,
            "display": null,
            "left": null
          }
        },
        "368e8eec3f834ebfa1b782ca4a0c43f1": {
          "model_module": "@jupyter-widgets/controls",
          "model_name": "DescriptionStyleModel",
          "model_module_version": "1.5.0",
          "state": {
            "_view_name": "StyleView",
            "_model_name": "DescriptionStyleModel",
            "description_width": "",
            "_view_module": "@jupyter-widgets/base",
            "_model_module_version": "1.5.0",
            "_view_count": null,
            "_view_module_version": "1.2.0",
            "_model_module": "@jupyter-widgets/controls"
          }
        },
        "8ba7ee116f2a4da8bf629680b10291cb": {
          "model_module": "@jupyter-widgets/base",
          "model_name": "LayoutModel",
          "model_module_version": "1.2.0",
          "state": {
            "_view_name": "LayoutView",
            "grid_template_rows": null,
            "right": null,
            "justify_content": null,
            "_view_module": "@jupyter-widgets/base",
            "overflow": null,
            "_model_module_version": "1.2.0",
            "_view_count": null,
            "flex_flow": null,
            "width": null,
            "min_width": null,
            "border": null,
            "align_items": null,
            "bottom": null,
            "_model_module": "@jupyter-widgets/base",
            "top": null,
            "grid_column": null,
            "overflow_y": null,
            "overflow_x": null,
            "grid_auto_flow": null,
            "grid_area": null,
            "grid_template_columns": null,
            "flex": null,
            "_model_name": "LayoutModel",
            "justify_items": null,
            "grid_row": null,
            "max_height": null,
            "align_content": null,
            "visibility": null,
            "align_self": null,
            "height": null,
            "min_height": null,
            "padding": null,
            "grid_auto_rows": null,
            "grid_gap": null,
            "max_width": null,
            "order": null,
            "_view_module_version": "1.2.0",
            "grid_template_areas": null,
            "object_position": null,
            "object_fit": null,
            "grid_auto_columns": null,
            "margin": null,
            "display": null,
            "left": null
          }
        },
        "c2a8ba4899a04462a4e433dd9617ff6e": {
          "model_module": "@jupyter-widgets/controls",
          "model_name": "HBoxModel",
          "model_module_version": "1.5.0",
          "state": {
            "_view_name": "HBoxView",
            "_dom_classes": [],
            "_model_name": "HBoxModel",
            "_view_module": "@jupyter-widgets/controls",
            "_model_module_version": "1.5.0",
            "_view_count": null,
            "_view_module_version": "1.5.0",
            "box_style": "",
            "layout": "IPY_MODEL_06ecbfd6c26445a0a97fdc7bed763d6f",
            "_model_module": "@jupyter-widgets/controls",
            "children": [
              "IPY_MODEL_0e15d0dd59484bc089bc5291bec550bc",
              "IPY_MODEL_555dbbfaa66b47c3ab55447ea590c7b2",
              "IPY_MODEL_a0026a11133c461491f11870a2ac4da8"
            ]
          }
        },
        "06ecbfd6c26445a0a97fdc7bed763d6f": {
          "model_module": "@jupyter-widgets/base",
          "model_name": "LayoutModel",
          "model_module_version": "1.2.0",
          "state": {
            "_view_name": "LayoutView",
            "grid_template_rows": null,
            "right": null,
            "justify_content": null,
            "_view_module": "@jupyter-widgets/base",
            "overflow": null,
            "_model_module_version": "1.2.0",
            "_view_count": null,
            "flex_flow": null,
            "width": null,
            "min_width": null,
            "border": null,
            "align_items": null,
            "bottom": null,
            "_model_module": "@jupyter-widgets/base",
            "top": null,
            "grid_column": null,
            "overflow_y": null,
            "overflow_x": null,
            "grid_auto_flow": null,
            "grid_area": null,
            "grid_template_columns": null,
            "flex": null,
            "_model_name": "LayoutModel",
            "justify_items": null,
            "grid_row": null,
            "max_height": null,
            "align_content": null,
            "visibility": null,
            "align_self": null,
            "height": null,
            "min_height": null,
            "padding": null,
            "grid_auto_rows": null,
            "grid_gap": null,
            "max_width": null,
            "order": null,
            "_view_module_version": "1.2.0",
            "grid_template_areas": null,
            "object_position": null,
            "object_fit": null,
            "grid_auto_columns": null,
            "margin": null,
            "display": null,
            "left": null
          }
        },
        "0e15d0dd59484bc089bc5291bec550bc": {
          "model_module": "@jupyter-widgets/controls",
          "model_name": "HTMLModel",
          "model_module_version": "1.5.0",
          "state": {
            "_view_name": "HTMLView",
            "style": "IPY_MODEL_9b3f939b24144c6b84593a4c998a7711",
            "_dom_classes": [],
            "description": "",
            "_model_name": "HTMLModel",
            "placeholder": "​",
            "_view_module": "@jupyter-widgets/controls",
            "_model_module_version": "1.5.0",
            "value": "100%",
            "_view_count": null,
            "_view_module_version": "1.5.0",
            "description_tooltip": null,
            "_model_module": "@jupyter-widgets/controls",
            "layout": "IPY_MODEL_a346ffcbe8a245f2aa23a8b076290ed5"
          }
        },
        "555dbbfaa66b47c3ab55447ea590c7b2": {
          "model_module": "@jupyter-widgets/controls",
          "model_name": "FloatProgressModel",
          "model_module_version": "1.5.0",
          "state": {
            "_view_name": "ProgressView",
            "style": "IPY_MODEL_42367aed2d904eefb46e621d14cc969e",
            "_dom_classes": [],
            "description": "",
            "_model_name": "FloatProgressModel",
            "bar_style": "success",
            "max": 30000,
            "_view_module": "@jupyter-widgets/controls",
            "_model_module_version": "1.5.0",
            "value": 30000,
            "_view_count": null,
            "_view_module_version": "1.5.0",
            "orientation": "horizontal",
            "min": 0,
            "description_tooltip": null,
            "_model_module": "@jupyter-widgets/controls",
            "layout": "IPY_MODEL_5207a3adce47442cadd4ec3006070163"
          }
        },
        "a0026a11133c461491f11870a2ac4da8": {
          "model_module": "@jupyter-widgets/controls",
          "model_name": "HTMLModel",
          "model_module_version": "1.5.0",
          "state": {
            "_view_name": "HTMLView",
            "style": "IPY_MODEL_5974a94086704a2b984770339666d41b",
            "_dom_classes": [],
            "description": "",
            "_model_name": "HTMLModel",
            "placeholder": "​",
            "_view_module": "@jupyter-widgets/controls",
            "_model_module_version": "1.5.0",
            "value": " 30000/30000 [16:42&lt;00:00, 26.60it/s]",
            "_view_count": null,
            "_view_module_version": "1.5.0",
            "description_tooltip": null,
            "_model_module": "@jupyter-widgets/controls",
            "layout": "IPY_MODEL_b959139da31e4a888de8012463158160"
          }
        },
        "9b3f939b24144c6b84593a4c998a7711": {
          "model_module": "@jupyter-widgets/controls",
          "model_name": "DescriptionStyleModel",
          "model_module_version": "1.5.0",
          "state": {
            "_view_name": "StyleView",
            "_model_name": "DescriptionStyleModel",
            "description_width": "",
            "_view_module": "@jupyter-widgets/base",
            "_model_module_version": "1.5.0",
            "_view_count": null,
            "_view_module_version": "1.2.0",
            "_model_module": "@jupyter-widgets/controls"
          }
        },
        "a346ffcbe8a245f2aa23a8b076290ed5": {
          "model_module": "@jupyter-widgets/base",
          "model_name": "LayoutModel",
          "model_module_version": "1.2.0",
          "state": {
            "_view_name": "LayoutView",
            "grid_template_rows": null,
            "right": null,
            "justify_content": null,
            "_view_module": "@jupyter-widgets/base",
            "overflow": null,
            "_model_module_version": "1.2.0",
            "_view_count": null,
            "flex_flow": null,
            "width": null,
            "min_width": null,
            "border": null,
            "align_items": null,
            "bottom": null,
            "_model_module": "@jupyter-widgets/base",
            "top": null,
            "grid_column": null,
            "overflow_y": null,
            "overflow_x": null,
            "grid_auto_flow": null,
            "grid_area": null,
            "grid_template_columns": null,
            "flex": null,
            "_model_name": "LayoutModel",
            "justify_items": null,
            "grid_row": null,
            "max_height": null,
            "align_content": null,
            "visibility": null,
            "align_self": null,
            "height": null,
            "min_height": null,
            "padding": null,
            "grid_auto_rows": null,
            "grid_gap": null,
            "max_width": null,
            "order": null,
            "_view_module_version": "1.2.0",
            "grid_template_areas": null,
            "object_position": null,
            "object_fit": null,
            "grid_auto_columns": null,
            "margin": null,
            "display": null,
            "left": null
          }
        },
        "42367aed2d904eefb46e621d14cc969e": {
          "model_module": "@jupyter-widgets/controls",
          "model_name": "ProgressStyleModel",
          "model_module_version": "1.5.0",
          "state": {
            "_view_name": "StyleView",
            "_model_name": "ProgressStyleModel",
            "description_width": "",
            "_view_module": "@jupyter-widgets/base",
            "_model_module_version": "1.5.0",
            "_view_count": null,
            "_view_module_version": "1.2.0",
            "bar_color": null,
            "_model_module": "@jupyter-widgets/controls"
          }
        },
        "5207a3adce47442cadd4ec3006070163": {
          "model_module": "@jupyter-widgets/base",
          "model_name": "LayoutModel",
          "model_module_version": "1.2.0",
          "state": {
            "_view_name": "LayoutView",
            "grid_template_rows": null,
            "right": null,
            "justify_content": null,
            "_view_module": "@jupyter-widgets/base",
            "overflow": null,
            "_model_module_version": "1.2.0",
            "_view_count": null,
            "flex_flow": null,
            "width": null,
            "min_width": null,
            "border": null,
            "align_items": null,
            "bottom": null,
            "_model_module": "@jupyter-widgets/base",
            "top": null,
            "grid_column": null,
            "overflow_y": null,
            "overflow_x": null,
            "grid_auto_flow": null,
            "grid_area": null,
            "grid_template_columns": null,
            "flex": null,
            "_model_name": "LayoutModel",
            "justify_items": null,
            "grid_row": null,
            "max_height": null,
            "align_content": null,
            "visibility": null,
            "align_self": null,
            "height": null,
            "min_height": null,
            "padding": null,
            "grid_auto_rows": null,
            "grid_gap": null,
            "max_width": null,
            "order": null,
            "_view_module_version": "1.2.0",
            "grid_template_areas": null,
            "object_position": null,
            "object_fit": null,
            "grid_auto_columns": null,
            "margin": null,
            "display": null,
            "left": null
          }
        },
        "5974a94086704a2b984770339666d41b": {
          "model_module": "@jupyter-widgets/controls",
          "model_name": "DescriptionStyleModel",
          "model_module_version": "1.5.0",
          "state": {
            "_view_name": "StyleView",
            "_model_name": "DescriptionStyleModel",
            "description_width": "",
            "_view_module": "@jupyter-widgets/base",
            "_model_module_version": "1.5.0",
            "_view_count": null,
            "_view_module_version": "1.2.0",
            "_model_module": "@jupyter-widgets/controls"
          }
        },
        "b959139da31e4a888de8012463158160": {
          "model_module": "@jupyter-widgets/base",
          "model_name": "LayoutModel",
          "model_module_version": "1.2.0",
          "state": {
            "_view_name": "LayoutView",
            "grid_template_rows": null,
            "right": null,
            "justify_content": null,
            "_view_module": "@jupyter-widgets/base",
            "overflow": null,
            "_model_module_version": "1.2.0",
            "_view_count": null,
            "flex_flow": null,
            "width": null,
            "min_width": null,
            "border": null,
            "align_items": null,
            "bottom": null,
            "_model_module": "@jupyter-widgets/base",
            "top": null,
            "grid_column": null,
            "overflow_y": null,
            "overflow_x": null,
            "grid_auto_flow": null,
            "grid_area": null,
            "grid_template_columns": null,
            "flex": null,
            "_model_name": "LayoutModel",
            "justify_items": null,
            "grid_row": null,
            "max_height": null,
            "align_content": null,
            "visibility": null,
            "align_self": null,
            "height": null,
            "min_height": null,
            "padding": null,
            "grid_auto_rows": null,
            "grid_gap": null,
            "max_width": null,
            "order": null,
            "_view_module_version": "1.2.0",
            "grid_template_areas": null,
            "object_position": null,
            "object_fit": null,
            "grid_auto_columns": null,
            "margin": null,
            "display": null,
            "left": null
          }
        },
        "ca831066a04a47de8ba467480336b477": {
          "model_module": "@jupyter-widgets/controls",
          "model_name": "HBoxModel",
          "model_module_version": "1.5.0",
          "state": {
            "_view_name": "HBoxView",
            "_dom_classes": [],
            "_model_name": "HBoxModel",
            "_view_module": "@jupyter-widgets/controls",
            "_model_module_version": "1.5.0",
            "_view_count": null,
            "_view_module_version": "1.5.0",
            "box_style": "",
            "layout": "IPY_MODEL_c67d34ef8b404b788868047f8c5f6434",
            "_model_module": "@jupyter-widgets/controls",
            "children": [
              "IPY_MODEL_6c7a8a58d7744f7ca6f1750be772c140",
              "IPY_MODEL_b62a6e38363e45358305dfdc814b41e7",
              "IPY_MODEL_a0854c3057a84f62b9707e349a4932f0"
            ]
          }
        },
        "c67d34ef8b404b788868047f8c5f6434": {
          "model_module": "@jupyter-widgets/base",
          "model_name": "LayoutModel",
          "model_module_version": "1.2.0",
          "state": {
            "_view_name": "LayoutView",
            "grid_template_rows": null,
            "right": null,
            "justify_content": null,
            "_view_module": "@jupyter-widgets/base",
            "overflow": null,
            "_model_module_version": "1.2.0",
            "_view_count": null,
            "flex_flow": null,
            "width": null,
            "min_width": null,
            "border": null,
            "align_items": null,
            "bottom": null,
            "_model_module": "@jupyter-widgets/base",
            "top": null,
            "grid_column": null,
            "overflow_y": null,
            "overflow_x": null,
            "grid_auto_flow": null,
            "grid_area": null,
            "grid_template_columns": null,
            "flex": null,
            "_model_name": "LayoutModel",
            "justify_items": null,
            "grid_row": null,
            "max_height": null,
            "align_content": null,
            "visibility": null,
            "align_self": null,
            "height": null,
            "min_height": null,
            "padding": null,
            "grid_auto_rows": null,
            "grid_gap": null,
            "max_width": null,
            "order": null,
            "_view_module_version": "1.2.0",
            "grid_template_areas": null,
            "object_position": null,
            "object_fit": null,
            "grid_auto_columns": null,
            "margin": null,
            "display": null,
            "left": null
          }
        },
        "6c7a8a58d7744f7ca6f1750be772c140": {
          "model_module": "@jupyter-widgets/controls",
          "model_name": "HTMLModel",
          "model_module_version": "1.5.0",
          "state": {
            "_view_name": "HTMLView",
            "style": "IPY_MODEL_04b752f7c0e844f4ad6795c6ffa79d89",
            "_dom_classes": [],
            "description": "",
            "_model_name": "HTMLModel",
            "placeholder": "​",
            "_view_module": "@jupyter-widgets/controls",
            "_model_module_version": "1.5.0",
            "value": "100%",
            "_view_count": null,
            "_view_module_version": "1.5.0",
            "description_tooltip": null,
            "_model_module": "@jupyter-widgets/controls",
            "layout": "IPY_MODEL_2aafc607f86d4140ac1f04a0e1449fdf"
          }
        },
        "b62a6e38363e45358305dfdc814b41e7": {
          "model_module": "@jupyter-widgets/controls",
          "model_name": "FloatProgressModel",
          "model_module_version": "1.5.0",
          "state": {
            "_view_name": "ProgressView",
            "style": "IPY_MODEL_68e04b8b3dcb457cae396e3a64546396",
            "_dom_classes": [],
            "description": "",
            "_model_name": "FloatProgressModel",
            "bar_style": "success",
            "max": 10000,
            "_view_module": "@jupyter-widgets/controls",
            "_model_module_version": "1.5.0",
            "value": 10000,
            "_view_count": null,
            "_view_module_version": "1.5.0",
            "orientation": "horizontal",
            "min": 0,
            "description_tooltip": null,
            "_model_module": "@jupyter-widgets/controls",
            "layout": "IPY_MODEL_4ba1fc9f7ca841b3972177de5b462386"
          }
        },
        "a0854c3057a84f62b9707e349a4932f0": {
          "model_module": "@jupyter-widgets/controls",
          "model_name": "HTMLModel",
          "model_module_version": "1.5.0",
          "state": {
            "_view_name": "HTMLView",
            "style": "IPY_MODEL_6b989a626fa44f4c84124f999461db21",
            "_dom_classes": [],
            "description": "",
            "_model_name": "HTMLModel",
            "placeholder": "​",
            "_view_module": "@jupyter-widgets/controls",
            "_model_module_version": "1.5.0",
            "value": " 10000/10000 [02:49&lt;00:00, 57.80it/s]",
            "_view_count": null,
            "_view_module_version": "1.5.0",
            "description_tooltip": null,
            "_model_module": "@jupyter-widgets/controls",
            "layout": "IPY_MODEL_7261e031bb9a4c8993c377ba4ab0e9a4"
          }
        },
        "04b752f7c0e844f4ad6795c6ffa79d89": {
          "model_module": "@jupyter-widgets/controls",
          "model_name": "DescriptionStyleModel",
          "model_module_version": "1.5.0",
          "state": {
            "_view_name": "StyleView",
            "_model_name": "DescriptionStyleModel",
            "description_width": "",
            "_view_module": "@jupyter-widgets/base",
            "_model_module_version": "1.5.0",
            "_view_count": null,
            "_view_module_version": "1.2.0",
            "_model_module": "@jupyter-widgets/controls"
          }
        },
        "2aafc607f86d4140ac1f04a0e1449fdf": {
          "model_module": "@jupyter-widgets/base",
          "model_name": "LayoutModel",
          "model_module_version": "1.2.0",
          "state": {
            "_view_name": "LayoutView",
            "grid_template_rows": null,
            "right": null,
            "justify_content": null,
            "_view_module": "@jupyter-widgets/base",
            "overflow": null,
            "_model_module_version": "1.2.0",
            "_view_count": null,
            "flex_flow": null,
            "width": null,
            "min_width": null,
            "border": null,
            "align_items": null,
            "bottom": null,
            "_model_module": "@jupyter-widgets/base",
            "top": null,
            "grid_column": null,
            "overflow_y": null,
            "overflow_x": null,
            "grid_auto_flow": null,
            "grid_area": null,
            "grid_template_columns": null,
            "flex": null,
            "_model_name": "LayoutModel",
            "justify_items": null,
            "grid_row": null,
            "max_height": null,
            "align_content": null,
            "visibility": null,
            "align_self": null,
            "height": null,
            "min_height": null,
            "padding": null,
            "grid_auto_rows": null,
            "grid_gap": null,
            "max_width": null,
            "order": null,
            "_view_module_version": "1.2.0",
            "grid_template_areas": null,
            "object_position": null,
            "object_fit": null,
            "grid_auto_columns": null,
            "margin": null,
            "display": null,
            "left": null
          }
        },
        "68e04b8b3dcb457cae396e3a64546396": {
          "model_module": "@jupyter-widgets/controls",
          "model_name": "ProgressStyleModel",
          "model_module_version": "1.5.0",
          "state": {
            "_view_name": "StyleView",
            "_model_name": "ProgressStyleModel",
            "description_width": "",
            "_view_module": "@jupyter-widgets/base",
            "_model_module_version": "1.5.0",
            "_view_count": null,
            "_view_module_version": "1.2.0",
            "bar_color": null,
            "_model_module": "@jupyter-widgets/controls"
          }
        },
        "4ba1fc9f7ca841b3972177de5b462386": {
          "model_module": "@jupyter-widgets/base",
          "model_name": "LayoutModel",
          "model_module_version": "1.2.0",
          "state": {
            "_view_name": "LayoutView",
            "grid_template_rows": null,
            "right": null,
            "justify_content": null,
            "_view_module": "@jupyter-widgets/base",
            "overflow": null,
            "_model_module_version": "1.2.0",
            "_view_count": null,
            "flex_flow": null,
            "width": null,
            "min_width": null,
            "border": null,
            "align_items": null,
            "bottom": null,
            "_model_module": "@jupyter-widgets/base",
            "top": null,
            "grid_column": null,
            "overflow_y": null,
            "overflow_x": null,
            "grid_auto_flow": null,
            "grid_area": null,
            "grid_template_columns": null,
            "flex": null,
            "_model_name": "LayoutModel",
            "justify_items": null,
            "grid_row": null,
            "max_height": null,
            "align_content": null,
            "visibility": null,
            "align_self": null,
            "height": null,
            "min_height": null,
            "padding": null,
            "grid_auto_rows": null,
            "grid_gap": null,
            "max_width": null,
            "order": null,
            "_view_module_version": "1.2.0",
            "grid_template_areas": null,
            "object_position": null,
            "object_fit": null,
            "grid_auto_columns": null,
            "margin": null,
            "display": null,
            "left": null
          }
        },
        "6b989a626fa44f4c84124f999461db21": {
          "model_module": "@jupyter-widgets/controls",
          "model_name": "DescriptionStyleModel",
          "model_module_version": "1.5.0",
          "state": {
            "_view_name": "StyleView",
            "_model_name": "DescriptionStyleModel",
            "description_width": "",
            "_view_module": "@jupyter-widgets/base",
            "_model_module_version": "1.5.0",
            "_view_count": null,
            "_view_module_version": "1.2.0",
            "_model_module": "@jupyter-widgets/controls"
          }
        },
        "7261e031bb9a4c8993c377ba4ab0e9a4": {
          "model_module": "@jupyter-widgets/base",
          "model_name": "LayoutModel",
          "model_module_version": "1.2.0",
          "state": {
            "_view_name": "LayoutView",
            "grid_template_rows": null,
            "right": null,
            "justify_content": null,
            "_view_module": "@jupyter-widgets/base",
            "overflow": null,
            "_model_module_version": "1.2.0",
            "_view_count": null,
            "flex_flow": null,
            "width": null,
            "min_width": null,
            "border": null,
            "align_items": null,
            "bottom": null,
            "_model_module": "@jupyter-widgets/base",
            "top": null,
            "grid_column": null,
            "overflow_y": null,
            "overflow_x": null,
            "grid_auto_flow": null,
            "grid_area": null,
            "grid_template_columns": null,
            "flex": null,
            "_model_name": "LayoutModel",
            "justify_items": null,
            "grid_row": null,
            "max_height": null,
            "align_content": null,
            "visibility": null,
            "align_self": null,
            "height": null,
            "min_height": null,
            "padding": null,
            "grid_auto_rows": null,
            "grid_gap": null,
            "max_width": null,
            "order": null,
            "_view_module_version": "1.2.0",
            "grid_template_areas": null,
            "object_position": null,
            "object_fit": null,
            "grid_auto_columns": null,
            "margin": null,
            "display": null,
            "left": null
          }
        }
      }
    }
  },
  "cells": [
    {
      "cell_type": "code",
      "metadata": {
        "id": "0no3PquSEpJj"
      },
      "source": [
        "import matplotlib.pyplot as plt\n",
        "import numpy as np\n",
        "from tqdm.notebook import tqdm\n",
        "from numba import jit, cuda\n",
        "import random"
      ],
      "execution_count": 1,
      "outputs": []
    },
    {
      "cell_type": "code",
      "metadata": {
        "id": "yTNIj9wnB19w",
        "colab": {
          "base_uri": "https://localhost:8080/"
        },
        "outputId": "f9e18e16-f9c7-4a08-cb0c-b8368bdc11d9"
      },
      "source": [
        "# importing dataset and deperating into training and testing sets\n",
        "\n",
        "from tensorflow.keras.datasets import mnist\n",
        "\n",
        "(training_imgs, training_labels), (testing_imgs, testing_labels)  = mnist.load_data()\n",
        "training_imgs = training_imgs/255\n",
        "testing_imgs = testing_imgs/255"
      ],
      "execution_count": 2,
      "outputs": [
        {
          "output_type": "stream",
          "name": "stdout",
          "text": [
            "Downloading data from https://storage.googleapis.com/tensorflow/tf-keras-datasets/mnist.npz\n",
            "11493376/11490434 [==============================] - 0s 0us/step\n",
            "11501568/11490434 [==============================] - 0s 0us/step\n"
          ]
        }
      ]
    },
    {
      "cell_type": "code",
      "metadata": {
        "id": "OPWHuzy9EZy8",
        "colab": {
          "base_uri": "https://localhost:8080/",
          "height": 248
        },
        "outputId": "fc993be0-ed23-4f38-c540-5980cc4cbd66"
      },
      "source": [
        "# Function for displaying a number\n",
        "def display(img):\n",
        "    plt.figure()\n",
        "    plt.axis(\"off\")\n",
        "    plt.grid(\"off\")\n",
        "    plt.imshow(img)\n",
        " \n",
        "item = training_imgs[0]\n",
        "display(item)"
      ],
      "execution_count": 3,
      "outputs": [
        {
          "output_type": "display_data",
          "data": {
            "image/png": "[encoded data removed]",
            "text/plain": [
              "<Figure size 432x288 with 1 Axes>"
            ]
          },
          "metadata": {
            "needs_background": "light"
          }
        }
      ]
    },
    {
      "cell_type": "code",
      "metadata": {
        "id": "EkXmoicURmfN"
      },
      "source": [
        "class Variable():\n",
        "  '''\n",
        "  A class for Storing values and derivatives to help build up a mathmatical expression\n",
        "  @x = initial value to be set to\n",
        "  @weight = Determines if the variable can be updated in a machine learning system\n",
        "  '''\n",
        "\n",
        "  def __init__(self, x, weight=False):\n",
        "    self.computed_value = x\n",
        "    self.grad = 0\n",
        "    self.weight = weight\n",
        "\n",
        "  def set(self, x):                       # For changing the value of a variable\n",
        "    self.computed_value = x\n",
        "\n",
        "  def zero_grad(self):                    # For setting the gradient to zero\n",
        "    self.grad = 0\n",
        "\n",
        "  def optimize(self, step):               # If the variable is a weight we optimize the machine learning system using gradient descent\n",
        "    if self.weight:\n",
        "      self.computed_value -= step * self.grad\n",
        "\n",
        "  def derivate(self, prop_grad=1):        # updating the gradient during derivation\n",
        "    self.grad += prop_grad\n",
        "\n",
        "  def compute(self):                      # returning the variable value\n",
        "    return self.computed_value\n",
        "\n",
        "  def __add__(self,other):                # Rules for creating expressions from variables\n",
        "    return Plus(self,other)\n",
        "\n",
        "  def __mul__(self,other):\n",
        "    return Multiply(self,other)\n",
        "\n",
        "  def __sub__(self,other):\n",
        "    return Minus(self,other)\n",
        "\n",
        "\n",
        "class Function():\n",
        "  '''\n",
        "  This class creates mathematical functions from variables connected by operators.\n",
        "  It works like a tree, with operators connecting children variables.\n",
        "  @args = children in the expression\n",
        "  '''\n",
        "\n",
        "  def __init__(self, *args):              # constructor - initializes the tree, value, and gradient\n",
        "    self.children = args\n",
        "    self.computed_value = None\n",
        "    self.grad = 0\n",
        "\n",
        "  def zero_grad(self):                    # iterate through the expression tree and zeros all gradients\n",
        "    self.grad = 0\n",
        "    for i in self.children:\n",
        "      i.zero_grad()\n",
        "\n",
        "  def optimize(self,step):                # iterates through tree and optimizes all ML weights in the function\n",
        "    for i in self.children:\n",
        "      i.optimize(step)\n",
        "\n",
        "  def __add__(self,other):                # Rules for building larger expressions out of current expressions\n",
        "    return Plus(self,other)\n",
        "\n",
        "  def __sub__(self,other):\n",
        "    return Minus(self,other)\n",
        "\n",
        "  def __mul__(self,other):\n",
        "    return Multiply(self,other)\n",
        "\n",
        "\n",
        "\n",
        "# Function subclasses\n",
        "\n",
        "class Plus(Function):\n",
        "  def compute(self):                       # Defines rule for computing the value of an addition function\n",
        "    self.computed_value = self.children[0].compute() + self.children[1].compute()\n",
        "    return self.computed_value\n",
        "\n",
        "  def derivate(self,prop_grad=1):          # Rules for taking the derivative of an addition function\n",
        "    self.grad += prop_grad\n",
        "    self.children[0].derivate(prop_grad)\n",
        "    self.children[1].derivate(prop_grad)\n",
        "\n",
        "class Minus(Function):                     \n",
        "  def compute(self):                       \n",
        "    self.computed_value = self.children[0].compute() - self.children[1].compute()\n",
        "    return self.computed_value\n",
        "\n",
        "  def derivate(self,prop_grad=1):\n",
        "    self.grad += prop_grad\n",
        "    self.children[0].derivate(prop_grad)\n",
        "    self.children[1].derivate(-prop_grad)\n",
        "\n",
        "class Multiply(Function):\n",
        "  def compute(self):\n",
        "    self.computed_value = self.children[0].compute() * self.children[1].compute()\n",
        "    return self.computed_value\n",
        "\n",
        "  def derivate(self,prop_grad=1):\n",
        "    self.grad += prop_grad\n",
        "    self.children[0].derivate(prop_grad*self.children[1].computed_value)\n",
        "    self.children[1].derivate(prop_grad*self.children[0].computed_value)\n"
      ],
      "execution_count": 4,
      "outputs": []
    },
    {
      "cell_type": "code",
      "metadata": {
        "id": "of8CX8aiLunX"
      },
      "source": [
        "class linear_network():\n",
        "    '''\n",
        "    This class defines a simple neural network with a simple linear layer.\n",
        "    This network will output a number predicting the likleyhood the input number\n",
        "    is the target number\n",
        "    @taget_num = the network will check if the input is this number\n",
        "    '''\n",
        "    def __init__(self,target_num):\n",
        "        self.target_num = target_num  \n",
        "        self.truth = Variable(0)         # This is the value is used to punish or reward the model depending on if it is correct\n",
        "\n",
        "        # model uses numpy arrays of expressions to form the layers of the neural network\n",
        "        self.inputs = np.array([ [Variable(0) for i in range(28)] for j in range(28) ], dtype=object)\n",
        "        self.linear_layer = np.array([ [Variable(random.uniform(.1,2),True) for i in range(28)] for j in range(28) ], dtype=object)\n",
        "        self.out = self.inputs * self.linear_layer\n",
        "\n",
        "        # The loss function is the scaled down sum of the output. self.truth makes it negative or positive depending on if the prediction was correct\n",
        "        self.expression = self.truth * (self.out).sum() * Variable(.00000000001)\n",
        "\n",
        "    def set(self,arr,label):    # iterates through the input array to set the values to the input\n",
        "        for i in range(28):                   \n",
        "            for k in range(28):\n",
        "                self.inputs[i,k].set(arr[i,k])\n",
        "\n",
        "        if label == self.target_num:    # The label is used for training. The reward / punishment depends on the label\n",
        "            self.truth.set(-9)\n",
        "        else:\n",
        "            self.truth.set(1)\n",
        "\n",
        "    def conv2d(self,arr):\n",
        "        pass # To be worked on\n",
        "        #out = np.empty((26,26),dtype=object)\n",
        "        #for i in range(26):\n",
        "        #    for k in range(26):\n",
        "        #        out[i,k] = (arr[i,k] + arr[i+1,k] + arr[i+2,k] + arr[i,k+1] + arr[i+1,k+1] + arr[i+2,k+1] + arr[i,k+2] + arr[i+1,k+2] + arr[i+2,k+2]) *Variable(0.167)\n",
        "        #return out\n",
        "\n",
        "\n",
        "    def run(self, activation):\n",
        "        self.expression.compute()   # this computes the loss - it should decrease\n",
        "        activation[self.target_num] = self.expression.computed_value / self.truth.computed_value # This computes the class activation\n",
        "        return self.expression.computed_value\n",
        "\n",
        "    def derivate(self, weight=1):\n",
        "        self.expression.derivate(prop_grad=weight)  # derivation function used for computing the gradient\n",
        "\n",
        "    def optimize(self,step):\n",
        "        self.expression.optimize(step)    # optimzation by using the gradient to take a step down the loss function\n",
        "        self.expression.zero_grad()\n",
        "\n",
        "    def zero_grad(self):\n",
        "        self.expression.zero_grad()       # zeros the gradient in the loss function\n",
        "\n",
        "    def predict(self,arr):                # prediction function - set the input and calculates / returns the class activation\n",
        "        for i in range(28):\n",
        "            for k in range(28):\n",
        "                self.inputs[i,k].set(arr[i,k])\n",
        "        self.expression.compute()\n",
        "        return self.expression.computed_value / self.truth.computed_value\n",
        "        \n",
        "\n",
        "class num_recognition():\n",
        "    '''\n",
        "    The full machine learning system for number recognition\n",
        "    '''\n",
        "    def __init__(self):\n",
        "        self.activations = [0,0,0,0,0,0,0,0,0,0]     # list for storing the class activations for each number\n",
        "        self.networks = list()\n",
        "        for i in range(10):\n",
        "            self.networks.append(linear_network(i))  # We have a list of linear networks for each class\n",
        "\n",
        "    def set(self,arr,label):\n",
        "        for i in self.networks:                      # sets the inputs in all linear networks\n",
        "            i.set(arr,label)\n",
        "\n",
        "    def run(self):\n",
        "        loss = 0\n",
        "        for i in self.networks:                      # run and calculate the loss for each linear network\n",
        "            loss += i.run(self.activations)\n",
        "        return loss\n",
        "\n",
        "    def derivate(self, label):\n",
        "        correct_activation = self.activations[label]\n",
        "        correct = 1\n",
        "        for index,i in enumerate(self.networks):   # we punish all incorrect networks\n",
        "            if correct_activation < self.activations[index] and index != label:\n",
        "                i.derivate(weight=3) # double punishmnet if we don't have the correct answer\n",
        "                correct= 0\n",
        "            else:\n",
        "                i.derivate()          # We reward the correct network\n",
        "        return correct\n",
        "\n",
        "    def optimize(self, step):\n",
        "        for i in self.networks:\n",
        "            i.optimize(step)           # optimizing the network using gradient descent on all networks\n",
        "\n",
        "    def zero_grad(self):\n",
        "        for i in self.networks:\n",
        "            i.zero_grad()              # iterates through the networks zeroing all gradients\n",
        "\n",
        "    def predict(self, arr):\n",
        "        activation = list()\n",
        "        for i in self.networks:                  # predicts by setting the inputs then returning the max class activation\n",
        "            activation.append(i.predict(arr))\n",
        "        return activation.index(max(activation))\n",
        "\n",
        "\n",
        "net = num_recognition()"
      ],
      "execution_count": 5,
      "outputs": []
    },
    {
      "cell_type": "code",
      "metadata": {
        "id": "ym5Bouk7vJiX"
      },
      "source": [
        "################# Finding misclassification rate ####################\n",
        "\n",
        "def success_rate(net,testing_imgs,testing_labels):\n",
        "    correct_classifications = 0\n",
        "    iter = tqdm(range(testing_imgs.shape[0]))\n",
        "\n",
        "    for i in iter:                                  # iterates through the testing images and counts the correct classifications\n",
        "        prediction = net.predict(testing_imgs[i])\n",
        "        if prediction == testing_labels[i]:\n",
        "            correct_classifications += 1\n",
        "\n",
        "    net.zero_grad()  # we don't derivate so this shouldn't be nessary\n",
        "\n",
        "    print(\"The correct classification rate is \", (correct_classifications / testing_imgs.shape[0]) * 100)\n"
      ],
      "execution_count": 6,
      "outputs": []
    },
    {
      "cell_type": "code",
      "metadata": {
        "id": "zRApMVHJFh0L"
      },
      "source": [
        "################## Training Loop ########################\n",
        "\n",
        "def train(net,training_imgs,testing_labels):\n",
        "    epoch = 1\n",
        "    step = 100000000\n",
        "    num_imgs = 30000 \n",
        "    loss = 0\n",
        "\n",
        "    iter = tqdm(range(num_imgs))\n",
        "\n",
        "    for k in range(epoch):       \n",
        "        for i in iter:                                    # iterates through training images\n",
        "            net.set(training_imgs[i],training_labels[i])  # sets the input information\n",
        "            loss += net.run()                             # updates the loss\n",
        "            net.derivate(training_labels[i])              # takes the derivative of the loss functions\n",
        "\n",
        "            if i % 1000 == 999:\n",
        "                net.optimize(step)                        # optimizing ever 1000 iterations (gradient is automatically zeroed by this function in the linear networks)\n",
        "                loss = 0\n"
      ],
      "execution_count": 7,
      "outputs": []
    },
    {
      "cell_type": "code",
      "metadata": {
        "colab": {
          "base_uri": "https://localhost:8080/",
          "height": 222,
          "referenced_widgets": [
            "f917487d3dbb4ee09f6c5b5af60d93b5",
            "6a57038d507342d7af7468aae4c81800",
            "e876119399974999944fdea6062dcc1a",
            "2a2ed6f4733c4818afc80eb14a05684c",
            "84105009ca6845ce83f731181e432b82",
            "b4f328c2898d49ca927cfaf0c59d2965",
            "09b38f418f3747e1a6ac418057213d1e",
            "bcfb059159cd48db9280ac519082b268",
            "e9be5a27b1644c77aa7de884b22e1202",
            "368e8eec3f834ebfa1b782ca4a0c43f1",
            "8ba7ee116f2a4da8bf629680b10291cb",
            "c2a8ba4899a04462a4e433dd9617ff6e",
            "06ecbfd6c26445a0a97fdc7bed763d6f",
            "0e15d0dd59484bc089bc5291bec550bc",
            "555dbbfaa66b47c3ab55447ea590c7b2",
            "a0026a11133c461491f11870a2ac4da8",
            "9b3f939b24144c6b84593a4c998a7711",
            "a346ffcbe8a245f2aa23a8b076290ed5",
            "42367aed2d904eefb46e621d14cc969e",
            "5207a3adce47442cadd4ec3006070163",
            "5974a94086704a2b984770339666d41b",
            "b959139da31e4a888de8012463158160",
            "ca831066a04a47de8ba467480336b477",
            "c67d34ef8b404b788868047f8c5f6434",
            "6c7a8a58d7744f7ca6f1750be772c140",
            "b62a6e38363e45358305dfdc814b41e7",
            "a0854c3057a84f62b9707e349a4932f0",
            "04b752f7c0e844f4ad6795c6ffa79d89",
            "2aafc607f86d4140ac1f04a0e1449fdf",
            "68e04b8b3dcb457cae396e3a64546396",
            "4ba1fc9f7ca841b3972177de5b462386",
            "6b989a626fa44f4c84124f999461db21",
            "7261e031bb9a4c8993c377ba4ab0e9a4"
          ]
        },
        "id": "lTVbHHKBqIG5",
        "outputId": "458b695d-b917-4c0d-c7ba-52c71c1bb616"
      },
      "source": [
        "print(\"Calculating initial correct classification rate on the testing set:\")\n",
        "success_rate(net,testing_imgs,testing_labels)\n",
        "\n",
        "print(\"Traning model on the training set:\")\n",
        "train(net,training_imgs,training_labels)\n",
        "\n",
        "print(\"Calculating new correct classification rate on the testing set:\")\n",
        "success_rate(net,testing_imgs,testing_labels)"
      ],
      "execution_count": 8,
      "outputs": [
        {
          "metadata": {
            "tags": null
          },
          "name": "stdout",
          "output_type": "stream",
          "text": [
            "Calculating initial correct classification rate on the testing set:\n"
          ]
        },
        {
          "data": {
            "application/vnd.jupyter.widget-view+json": {
              "model_id": "f917487d3dbb4ee09f6c5b5af60d93b5",
              "version_major": 2,
              "version_minor": 0
            },
            "text/plain": [
              "  0%|          | 0/10000 [00:00<?, ?it/s]"
            ]
          },
          "metadata": {},
          "output_type": "display_data"
        },
        {
          "metadata": {
            "tags": null
          },
          "name": "stderr",
          "output_type": "stream",
          "text": [
            "/usr/local/lib/python3.7/dist-packages/ipykernel_launcher.py:59: RuntimeWarning: invalid value encountered in double_scalars\n"
          ]
        },
        {
          "metadata": {
            "tags": null
          },
          "name": "stdout",
          "output_type": "stream",
          "text": [
            "The correct classification rate is  9.8\n",
            "Traning model on the training set:\n"
          ]
        },
        {
          "data": {
            "application/vnd.jupyter.widget-view+json": {
              "model_id": "c2a8ba4899a04462a4e433dd9617ff6e",
              "version_major": 2,
              "version_minor": 0
            },
            "text/plain": [
              "  0%|          | 0/30000 [00:00<?, ?it/s]"
            ]
          },
          "metadata": {},
          "output_type": "display_data"
        },
        {
          "output_type": "stream",
          "name": "stdout",
          "text": [
            "Calculating new correct classification rate on the testing set:\n"
          ]
        },
        {
          "output_type": "display_data",
          "data": {
            "application/vnd.jupyter.widget-view+json": {
              "model_id": "ca831066a04a47de8ba467480336b477",
              "version_minor": 0,
              "version_major": 2
            },
            "text/plain": [
              "  0%|          | 0/10000 [00:00<?, ?it/s]"
            ]
          },
          "metadata": {}
        },
        {
          "output_type": "stream",
          "name": "stdout",
          "text": [
            "The correct classification rate is  77.74\n"
          ]
        }
      ]
    },
    {
      "cell_type": "code",
      "metadata": {
        "id": "Z1O9fSknCGqc",
        "colab": {
          "base_uri": "https://localhost:8080/",
          "height": 266
        },
        "outputId": "a76cbf62-7904-4398-fb21-ae88be69acdf"
      },
      "source": [
        "item = random.randrange(0,10000,1)\n",
        "\n",
        "display(testing_imgs[item]) # printing a sample classication from the number recognition network\n",
        "\n",
        "print(\"predicted:\",net.predict(testing_imgs[item]), \"correct:\", testing_labels[item])"
      ],
      "execution_count": 9,
      "outputs": [
        {
          "output_type": "stream",
          "name": "stdout",
          "text": [
            "predicted: 3 correct: 3\n"
          ]
        },
        {
          "output_type": "display_data",
          "data": {
            "image/png": "[encoded data removed]",
            "text/plain": [
              "<Figure size 432x288 with 1 Axes>"
            ]
          },
          "metadata": {
            "needs_background": "light"
          }
        }
      ]
    },
    {
      "cell_type": "code",
      "source": [
        "# This is the expression we will be optimize a function to fit to a set of points\n",
        "\n",
        "# We optimze f(x) = ax^3 + bx^2 + cx + d - we optimize the coefficients abcd\n",
        "\n",
        "x = Variable(0)       # The input into the function x\n",
        "target = Variable(0)  # The expected output of the function f(x) - used for training\n",
        "coefficients = [Variable(0,True) for i in range(4)] # The coeffecients a b c and d\n",
        "expression = coefficients[0]*x*x*x + coefficients[1]*x*x + coefficients[2]*x + coefficients[3] # The complete function f(x) = ax^3 + bx^2 + cx + d\n",
        "\n",
        "loss = (target - expression)*(target - expression)  # The loss function - the squared difference between the function output and the target"
      ],
      "metadata": {
        "id": "rJW55n08V4Ee"
      },
      "execution_count": 10,
      "outputs": []
    },
    {
      "cell_type": "code",
      "source": [
        "# The points for fitting the function to - This is an example and these can be altered\n",
        "points = [(-8,-38.1),(-2,27.06),(1,-2.46),(3,90.16),(4,192.3),(8,1145.26),(10,2051.7)]\n",
        "\n",
        "# function for printing the coefficitents of the function\n",
        "def print_coeff(coeff):\n",
        "    for i in coeff:\n",
        "        print(i.computed_value,end=\" \")\n",
        "    print()"
      ],
      "metadata": {
        "id": "99rh6tseWnFf"
      },
      "execution_count": 11,
      "outputs": []
    },
    {
      "cell_type": "code",
      "source": [
        "print(\"Initial Coeffificents:\")\n",
        "print_coeff(coefficients)\n",
        "\n",
        "# Plotting the initial function and the points the function will be fit to\n",
        "plt.figure()\n",
        "x_axis = np.linspace(-10,10,1000)\n",
        "y_axis = coefficients[0].computed_value*x_axis*x_axis*x_axis + coefficients[1].computed_value*x_axis*x_axis + coefficients[2].computed_value*x_axis + coefficients[3].computed_value\n",
        "plt.plot(x_axis,y_axis)\n",
        "for i in points:\n",
        "    plt.plot(i[0],i[1],\"o\")\n",
        "plt.show()\n",
        "\n",
        "# Training the function\n",
        "for i in range(1000000):        # experimentally chosen number of iterations\n",
        "    loss.zero_grad()            # reseting the gradient for a new iteration\n",
        "    for i in points:            # finding loss and derivating for each point in the set\n",
        "        x.set(i[0])             \n",
        "        target.set(i[1])\n",
        "        loss.compute()\n",
        "        loss.derivate()\n",
        "    loss.optimize(.00000001)    # optimizing with an experimentally chosen step size\n",
        "\n",
        "print(\"Final Coeffificents:\")\n",
        "print_coeff(coefficients)\n",
        "\n",
        "# Plotting the final function and the original points\n",
        "plt.figure()\n",
        "x_axis = np.linspace(-10,10,1000)\n",
        "y_axis = coefficients[0].computed_value*x_axis*x_axis*x_axis + coefficients[1].computed_value*x_axis*x_axis + coefficients[2].computed_value*x_axis + coefficients[3].computed_value\n",
        "plt.plot(x_axis,y_axis)\n",
        "for i in points:\n",
        "    plt.plot(i[0],i[1],\"o\")\n",
        "plt.show()"
      ],
      "metadata": {
        "id": "vVRa6NPTtyWJ",
        "colab": {
          "base_uri": "https://localhost:8080/",
          "height": 586
        },
        "outputId": "8d13567a-51d2-4f38-f33c-cff1fe9fe37b"
      },
      "execution_count": 12,
      "outputs": [
        {
          "output_type": "stream",
          "name": "stdout",
          "text": [
            "Initial Coeffificents:\n",
            "0 0 0 0 \n"
          ]
        },
        {
          "output_type": "display_data",
          "data": {
            "image/png": "[encoded data removed]",
            "text/plain": [
              "<Figure size 432x288 with 1 Axes>"
            ]
          },
          "metadata": {
            "needs_background": "light"
          }
        },
        {
          "output_type": "stream",
          "name": "stdout",
          "text": [
            "Final Coeffificents:\n",
            "1.225342077588071 8.674801160825496 -4.234006522925865 -1.2381598724771439 \n"
          ]
        },
        {
          "output_type": "display_data",
          "data": {
            "image/png": "[encoded data removed]",
            "text/plain": [
              "<Figure size 432x288 with 1 Axes>"
            ]
          },
          "metadata": {
            "needs_background": "light"
          }
        }
      ]
    }
  ]
}